{
 "cells": [
  {
   "cell_type": "code",
   "execution_count": 1,
   "id": "67a55b17",
   "metadata": {},
   "outputs": [],
   "source": [
    "import pandas as pd\n",
    "import ast\n",
    "df = pd.read_csv(\"dataset.csv\")"
   ]
  },
  {
   "cell_type": "code",
   "execution_count": 2,
   "id": "30794de6",
   "metadata": {},
   "outputs": [],
   "source": [
    "def get_unique_product_types(df):\n",
    "    unique_products = set()\n",
    "    for index, row in df.iterrows():\n",
    "        product_list = row.get(\"product_types\", [])\n",
    "        if isinstance(product_list, str):\n",
    "            try:\n",
    "                product_list = ast.literal_eval(product_list)\n",
    "            except Exception as e:\n",
    "                product_list = []\n",
    "\n",
    "        if product_list:\n",
    "            for product in product_list:\n",
    "                unique_products.add(product.lower())\n",
    "    return unique_products"
   ]
  },
  {
   "cell_type": "code",
   "execution_count": 3,
   "id": "b21f4aeb",
   "metadata": {},
   "outputs": [
    {
     "name": "stdout",
     "output_type": "stream",
     "text": [
      "Unique product types in the dataset:\n",
      "- api development\n",
      "- api monitoring\n",
      "- iam service\n",
      "- mercury language\n",
      "- cloud management\n"
     ]
    }
   ],
   "source": [
    "unique_products = get_unique_product_types(df)\n",
    "print(\"Unique product types in the dataset:\")\n",
    "for product in unique_products:\n",
    "    print(\"-\", product)"
   ]
  }
 ],
 "metadata": {
  "kernelspec": {
   "display_name": "myenv",
   "language": "python",
   "name": "python3"
  },
  "language_info": {
   "codemirror_mode": {
    "name": "ipython",
    "version": 3
   },
   "file_extension": ".py",
   "mimetype": "text/x-python",
   "name": "python",
   "nbconvert_exporter": "python",
   "pygments_lexer": "ipython3",
   "version": "3.12.6"
  }
 },
 "nbformat": 4,
 "nbformat_minor": 5
}
