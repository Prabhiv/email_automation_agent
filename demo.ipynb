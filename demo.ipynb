{
 "cells": [
  {
   "cell_type": "code",
   "execution_count": 1,
   "id": "d51ecb8d",
   "metadata": {},
   "outputs": [],
   "source": [
    "#For testing the whole project\n",
    "import pandas as pd\n",
    "from parse_email import parse_email\n",
    "from classification import classify_email\n",
    "from routing import route_email, simulate_api_call, simulate_auto_reply\n",
    "\n",
    "def inspect_email(row):\n",
    "    parsed     = parse_email(row)\n",
    "    classified = classify_email(parsed)\n",
    "    routing    = route_email(classified)\n",
    "    \n",
    "    print(\"\\n--- Simulated API Call ---\")\n",
    "    simulate_api_call(routing, classified)\n",
    "    \n",
    "    print(\"\\n--- Simulated Auto-Reply ---\")\n",
    "    simulate_auto_reply(classified, routing)"
   ]
  },
  {
   "cell_type": "code",
   "execution_count": 2,
   "id": "b4ca70a6",
   "metadata": {},
   "outputs": [],
   "source": [
    "df = pd.read_csv(\"dataset.csv\")"
   ]
  },
  {
   "cell_type": "code",
   "execution_count": null,
   "id": "e2ef2c4d",
   "metadata": {},
   "outputs": [],
   "source": [
    "#Demonstrations showing how emails are classified and routed: "
   ]
  },
  {
   "cell_type": "code",
   "execution_count": 8,
   "id": "4f83318e",
   "metadata": {},
   "outputs": [
    {
     "name": "stdout",
     "output_type": "stream",
     "text": [
      "\n",
      "--- Simulated API Call ---\n",
      "\n",
      "Simulating API call with payload:\n",
      "{\n",
      "    \"subject\": \"URGENT: Mercury Deployment Failing in Production - Project Phoenix\",\n",
      "    \"thread_id\": \"aa007-89e0aec7-2593-4432-9338-629a5858a9a2\",\n",
      "    \"teams\": [\n",
      "        \"Mercury Language Team\",\n",
      "        \"Cloud Services Team\"\n",
      "    ],\n",
      "    \"priority\": \"high\",\n",
      "    \"classified_type\": \"issue\",\n",
      "    \"keywords\": [\n",
      "        \"mercury\",\n",
      "        \"deployment\",\n",
      "        \"production\",\n",
      "        \"project\",\n",
      "        \"phoenix\"\n",
      "    ]\n",
      "}\n",
      "\n",
      "--- Simulated Auto-Reply ---\n",
      "\n",
      "Simulating sending auto-reply:\n",
      "To: john.doe@example.com\n",
      "Subject: Re: URGENT: Mercury Deployment Failing in Production - Project Phoenix\n",
      "Hi there,\n",
      "Thanks for reaching out about your issue, particularly regarding Mercury Language, Cloud Management.\n",
      "We've routed your email to the following team(s): Mercury Language Team, Cloud Services Team with a high priority.\n",
      "Our support team will get back to you shortly.\n",
      "Best regards,\n",
      "Customer Support Bot\n"
     ]
    }
   ],
   "source": [
    "inspect_email(df.iloc[455])"
   ]
  },
  {
   "cell_type": "code",
   "execution_count": 9,
   "id": "7f9bf052",
   "metadata": {},
   "outputs": [
    {
     "name": "stdout",
     "output_type": "stream",
     "text": [
      "\n",
      "--- Simulated API Call ---\n",
      "\n",
      "Simulating API call with payload:\n",
      "{\n",
      "    \"subject\": \"Re: Mercury Language Deployment Issue on Aetheros Cloud\",\n",
      "    \"thread_id\": \"aa004-87a5fb5a-d54f-487b-9496-d48f98c8d5b2\",\n",
      "    \"teams\": [\n",
      "        \"john.doe@example.com\"\n",
      "    ],\n",
      "    \"priority\": \"low\",\n",
      "    \"classified_type\": \"issue\",\n",
      "    \"keywords\": [\n",
      "        \"aetheros\",\n",
      "        \"mercury\",\n",
      "        \"language\",\n",
      "        \"issue\",\n",
      "        \"cloud\"\n",
      "    ]\n",
      "}\n",
      "\n",
      "--- Simulated Auto-Reply ---\n"
     ]
    }
   ],
   "source": [
    "inspect_email(df.iloc[135])"
   ]
  },
  {
   "cell_type": "code",
   "execution_count": 10,
   "id": "607d1a3b",
   "metadata": {},
   "outputs": [
    {
     "name": "stdout",
     "output_type": "stream",
     "text": [
      "\n",
      "--- Simulated API Call ---\n",
      "\n",
      "Simulating API call with payload:\n",
      "{\n",
      "    \"subject\": \"Re: Inquiry about API Development and Monitoring for E-commerce Platform\",\n",
      "    \"thread_id\": \"aa012-8f38ac0b-0e54-422b-8514-d5a6a62592d4\",\n",
      "    \"teams\": [\n",
      "        \"API Support Team\",\n",
      "        \"Monitoring Team\"\n",
      "    ],\n",
      "    \"priority\": \"low\",\n",
      "    \"classified_type\": \"inquiry\",\n",
      "    \"keywords\": [\n",
      "        \"team\",\n",
      "        \"inquiry\",\n",
      "        \"api\",\n",
      "        \"development\",\n",
      "        \"monitoring\"\n",
      "    ]\n",
      "}\n",
      "\n",
      "--- Simulated Auto-Reply ---\n",
      "\n",
      "Simulating sending auto-reply:\n",
      "To: isabella.rodriguez@example.net\n",
      "Subject: Re: Inquiry about API Development and Monitoring for E-commerce Platform\n",
      "Hi there,\n",
      "Thanks for reaching out about your inquiry, particularly regarding API development, API monitoring.\n",
      "We've routed your email to the following team(s): API Support Team, Monitoring Team with a low priority.\n",
      "Our support team will get back to you shortly.\n",
      "Best regards,\n",
      "Customer Support Bot\n"
     ]
    }
   ],
   "source": [
    "inspect_email(df.iloc[1762])"
   ]
  }
 ],
 "metadata": {
  "kernelspec": {
   "display_name": "myenv",
   "language": "python",
   "name": "python3"
  },
  "language_info": {
   "codemirror_mode": {
    "name": "ipython",
    "version": 3
   },
   "file_extension": ".py",
   "mimetype": "text/x-python",
   "name": "python",
   "nbconvert_exporter": "python",
   "pygments_lexer": "ipython3",
   "version": "3.12.6"
  }
 },
 "nbformat": 4,
 "nbformat_minor": 5
}
